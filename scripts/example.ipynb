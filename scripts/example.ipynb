{
 "cells": [
  {
   "cell_type": "code",
   "execution_count": 1,
   "metadata": {},
   "outputs": [],
   "source": [
    "from sportfaker import baseball_batting"
   ]
  },
  {
   "cell_type": "code",
   "execution_count": 2,
   "metadata": {},
   "outputs": [
    {
     "data": {
      "text/html": [
       "<div>\n",
       "<style scoped>\n",
       "    .dataframe tbody tr th:only-of-type {\n",
       "        vertical-align: middle;\n",
       "    }\n",
       "\n",
       "    .dataframe tbody tr th {\n",
       "        vertical-align: top;\n",
       "    }\n",
       "\n",
       "    .dataframe thead th {\n",
       "        text-align: right;\n",
       "    }\n",
       "</style>\n",
       "<table border=\"1\" class=\"dataframe\">\n",
       "  <thead>\n",
       "    <tr style=\"text-align: right;\">\n",
       "      <th></th>\n",
       "      <th>AB</th>\n",
       "      <th>Hits</th>\n",
       "      <th>AVG</th>\n",
       "      <th>2B</th>\n",
       "      <th>3B</th>\n",
       "      <th>HR</th>\n",
       "      <th>RBI</th>\n",
       "      <th>SLG</th>\n",
       "      <th>Name</th>\n",
       "    </tr>\n",
       "  </thead>\n",
       "  <tbody>\n",
       "    <tr>\n",
       "      <th>0</th>\n",
       "      <td>511</td>\n",
       "      <td>190</td>\n",
       "      <td>0.372</td>\n",
       "      <td>46</td>\n",
       "      <td>10</td>\n",
       "      <td>7</td>\n",
       "      <td>47</td>\n",
       "      <td>0.542</td>\n",
       "      <td>Gary Hale</td>\n",
       "    </tr>\n",
       "    <tr>\n",
       "      <th>1</th>\n",
       "      <td>482</td>\n",
       "      <td>155</td>\n",
       "      <td>0.322</td>\n",
       "      <td>51</td>\n",
       "      <td>10</td>\n",
       "      <td>9</td>\n",
       "      <td>54</td>\n",
       "      <td>0.525</td>\n",
       "      <td>Gary Hale</td>\n",
       "    </tr>\n",
       "    <tr>\n",
       "      <th>2</th>\n",
       "      <td>496</td>\n",
       "      <td>167</td>\n",
       "      <td>0.337</td>\n",
       "      <td>32</td>\n",
       "      <td>8</td>\n",
       "      <td>8</td>\n",
       "      <td>40</td>\n",
       "      <td>0.482</td>\n",
       "      <td>Gary Hale</td>\n",
       "    </tr>\n",
       "    <tr>\n",
       "      <th>3</th>\n",
       "      <td>502</td>\n",
       "      <td>174</td>\n",
       "      <td>0.347</td>\n",
       "      <td>38</td>\n",
       "      <td>10</td>\n",
       "      <td>6</td>\n",
       "      <td>41</td>\n",
       "      <td>0.498</td>\n",
       "      <td>Gary Hale</td>\n",
       "    </tr>\n",
       "    <tr>\n",
       "      <th>Career Totals</th>\n",
       "      <td>1991</td>\n",
       "      <td>686</td>\n",
       "      <td>0.344</td>\n",
       "      <td>167</td>\n",
       "      <td>38</td>\n",
       "      <td>30</td>\n",
       "      <td>182</td>\n",
       "      <td>0.512</td>\n",
       "      <td>Gary Hale</td>\n",
       "    </tr>\n",
       "  </tbody>\n",
       "</table>\n",
       "</div>"
      ],
      "text/plain": [
       "                 AB Hits    AVG   2B  3B  HR  RBI    SLG       Name\n",
       "0               511  190  0.372   46  10   7   47  0.542  Gary Hale\n",
       "1               482  155  0.322   51  10   9   54  0.525  Gary Hale\n",
       "2               496  167  0.337   32   8   8   40  0.482  Gary Hale\n",
       "3               502  174  0.347   38  10   6   41  0.498  Gary Hale\n",
       "Career Totals  1991  686  0.344  167  38  30  182  0.512  Gary Hale"
      ]
     },
     "execution_count": 2,
     "metadata": {},
     "output_type": "execute_result"
    }
   ],
   "source": [
    "baseball_batting(CAREER_LENGTH=4)"
   ]
  },
  {
   "cell_type": "code",
   "execution_count": null,
   "metadata": {},
   "outputs": [],
   "source": []
  }
 ],
 "metadata": {
  "kernelspec": {
   "display_name": "jupyterlab-3.3.2",
   "language": "python",
   "name": "python3"
  },
  "language_info": {
   "codemirror_mode": {
    "name": "ipython",
    "version": 3
   },
   "file_extension": ".py",
   "mimetype": "text/x-python",
   "name": "python",
   "nbconvert_exporter": "python",
   "pygments_lexer": "ipython3",
   "version": "3.9.12"
  },
  "orig_nbformat": 4
 },
 "nbformat": 4,
 "nbformat_minor": 2
}
