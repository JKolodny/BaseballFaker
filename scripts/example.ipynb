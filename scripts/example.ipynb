{
 "cells": [
  {
   "cell_type": "code",
   "execution_count": 1,
   "metadata": {},
   "outputs": [],
   "source": [
    "from sportfaker import baseball_batting"
   ]
  },
  {
   "cell_type": "code",
   "execution_count": 4,
   "metadata": {},
   "outputs": [
    {
     "data": {
      "text/html": [
       "<div>\n",
       "<style scoped>\n",
       "    .dataframe tbody tr th:only-of-type {\n",
       "        vertical-align: middle;\n",
       "    }\n",
       "\n",
       "    .dataframe tbody tr th {\n",
       "        vertical-align: top;\n",
       "    }\n",
       "\n",
       "    .dataframe thead th {\n",
       "        text-align: right;\n",
       "    }\n",
       "</style>\n",
       "<table border=\"1\" class=\"dataframe\">\n",
       "  <thead>\n",
       "    <tr style=\"text-align: right;\">\n",
       "      <th></th>\n",
       "      <th>AB</th>\n",
       "      <th>Hits</th>\n",
       "      <th>AVG</th>\n",
       "      <th>2B</th>\n",
       "      <th>3B</th>\n",
       "      <th>HR</th>\n",
       "      <th>RBI</th>\n",
       "      <th>Name</th>\n",
       "    </tr>\n",
       "  </thead>\n",
       "  <tbody>\n",
       "    <tr>\n",
       "      <th>0</th>\n",
       "      <td>475</td>\n",
       "      <td>147</td>\n",
       "      <td>0.309</td>\n",
       "      <td>35</td>\n",
       "      <td>10</td>\n",
       "      <td>11</td>\n",
       "      <td>50</td>\n",
       "      <td>William Oconnor</td>\n",
       "    </tr>\n",
       "    <tr>\n",
       "      <th>1</th>\n",
       "      <td>491</td>\n",
       "      <td>164</td>\n",
       "      <td>0.334</td>\n",
       "      <td>44</td>\n",
       "      <td>6</td>\n",
       "      <td>5</td>\n",
       "      <td>38</td>\n",
       "      <td>William Oconnor</td>\n",
       "    </tr>\n",
       "    <tr>\n",
       "      <th>2</th>\n",
       "      <td>501</td>\n",
       "      <td>175</td>\n",
       "      <td>0.349</td>\n",
       "      <td>33</td>\n",
       "      <td>9</td>\n",
       "      <td>12</td>\n",
       "      <td>50</td>\n",
       "      <td>William Oconnor</td>\n",
       "    </tr>\n",
       "    <tr>\n",
       "      <th>3</th>\n",
       "      <td>466</td>\n",
       "      <td>154</td>\n",
       "      <td>0.330</td>\n",
       "      <td>40</td>\n",
       "      <td>12</td>\n",
       "      <td>9</td>\n",
       "      <td>50</td>\n",
       "      <td>William Oconnor</td>\n",
       "    </tr>\n",
       "    <tr>\n",
       "      <th>Career Totals</th>\n",
       "      <td>1933</td>\n",
       "      <td>640</td>\n",
       "      <td>0.330</td>\n",
       "      <td>152</td>\n",
       "      <td>37</td>\n",
       "      <td>37</td>\n",
       "      <td>188</td>\n",
       "      <td>William Oconnor</td>\n",
       "    </tr>\n",
       "  </tbody>\n",
       "</table>\n",
       "</div>"
      ],
      "text/plain": [
       "                 AB Hits    AVG   2B  3B  HR  RBI             Name\n",
       "0               475  147  0.309   35  10  11   50  William Oconnor\n",
       "1               491  164  0.334   44   6   5   38  William Oconnor\n",
       "2               501  175  0.349   33   9  12   50  William Oconnor\n",
       "3               466  154  0.330   40  12   9   50  William Oconnor\n",
       "Career Totals  1933  640  0.330  152  37  37  188  William Oconnor"
      ]
     },
     "execution_count": 4,
     "metadata": {},
     "output_type": "execute_result"
    }
   ],
   "source": [
    "baseball_batting(CAREER_LENGTH=4)"
   ]
  },
  {
   "cell_type": "code",
   "execution_count": null,
   "metadata": {},
   "outputs": [],
   "source": []
  }
 ],
 "metadata": {
  "kernelspec": {
   "display_name": "jupyterlab-3.3.2",
   "language": "python",
   "name": "python3"
  },
  "language_info": {
   "codemirror_mode": {
    "name": "ipython",
    "version": 3
   },
   "file_extension": ".py",
   "mimetype": "text/x-python",
   "name": "python",
   "nbconvert_exporter": "python",
   "pygments_lexer": "ipython3",
   "version": "3.9.12"
  },
  "orig_nbformat": 4
 },
 "nbformat": 4,
 "nbformat_minor": 2
}
