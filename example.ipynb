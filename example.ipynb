{
 "cells": [
  {
   "cell_type": "markdown",
   "metadata": {},
   "source": [
    "# Import Library"
   ]
  },
  {
   "cell_type": "code",
   "execution_count": 1,
   "metadata": {},
   "outputs": [
    {
     "name": "stdout",
     "output_type": "stream",
     "text": [
      "empty\n"
     ]
    }
   ],
   "source": [
    "from sportfaker.baseball import batting"
   ]
  },
  {
   "cell_type": "markdown",
   "metadata": {},
   "source": [
    "# Batting Example"
   ]
  },
  {
   "cell_type": "code",
   "execution_count": 4,
   "metadata": {},
   "outputs": [
    {
     "data": {
      "text/html": [
       "<div>\n",
       "<style scoped>\n",
       "    .dataframe tbody tr th:only-of-type {\n",
       "        vertical-align: middle;\n",
       "    }\n",
       "\n",
       "    .dataframe tbody tr th {\n",
       "        vertical-align: top;\n",
       "    }\n",
       "\n",
       "    .dataframe thead th {\n",
       "        text-align: right;\n",
       "    }\n",
       "</style>\n",
       "<table border=\"1\" class=\"dataframe\">\n",
       "  <thead>\n",
       "    <tr style=\"text-align: right;\">\n",
       "      <th></th>\n",
       "      <th>AB</th>\n",
       "      <th>Hits</th>\n",
       "      <th>2B</th>\n",
       "      <th>3B</th>\n",
       "      <th>HR</th>\n",
       "      <th>RBI</th>\n",
       "      <th>BB</th>\n",
       "      <th>AVG</th>\n",
       "      <th>OBP</th>\n",
       "      <th>SLG</th>\n",
       "      <th>OPS</th>\n",
       "      <th>Name</th>\n",
       "    </tr>\n",
       "  </thead>\n",
       "  <tbody>\n",
       "    <tr>\n",
       "      <th>0</th>\n",
       "      <td>398</td>\n",
       "      <td>142</td>\n",
       "      <td>43</td>\n",
       "      <td>10</td>\n",
       "      <td>10</td>\n",
       "      <td>52</td>\n",
       "      <td>58</td>\n",
       "      <td>0.357</td>\n",
       "      <td>0.503</td>\n",
       "      <td>0.590</td>\n",
       "      <td>1.093</td>\n",
       "      <td>Dan Carlson</td>\n",
       "    </tr>\n",
       "    <tr>\n",
       "      <th>1</th>\n",
       "      <td>408</td>\n",
       "      <td>115</td>\n",
       "      <td>41</td>\n",
       "      <td>8</td>\n",
       "      <td>18</td>\n",
       "      <td>64</td>\n",
       "      <td>28</td>\n",
       "      <td>0.282</td>\n",
       "      <td>0.351</td>\n",
       "      <td>0.554</td>\n",
       "      <td>0.905</td>\n",
       "      <td>Dan Carlson</td>\n",
       "    </tr>\n",
       "    <tr>\n",
       "      <th>2</th>\n",
       "      <td>415</td>\n",
       "      <td>148</td>\n",
       "      <td>34</td>\n",
       "      <td>8</td>\n",
       "      <td>10</td>\n",
       "      <td>45</td>\n",
       "      <td>29</td>\n",
       "      <td>0.357</td>\n",
       "      <td>0.427</td>\n",
       "      <td>0.549</td>\n",
       "      <td>0.976</td>\n",
       "      <td>Dan Carlson</td>\n",
       "    </tr>\n",
       "    <tr>\n",
       "      <th>3</th>\n",
       "      <td>405</td>\n",
       "      <td>122</td>\n",
       "      <td>38</td>\n",
       "      <td>14</td>\n",
       "      <td>10</td>\n",
       "      <td>53</td>\n",
       "      <td>69</td>\n",
       "      <td>0.301</td>\n",
       "      <td>0.471</td>\n",
       "      <td>0.538</td>\n",
       "      <td>1.009</td>\n",
       "      <td>Dan Carlson</td>\n",
       "    </tr>\n",
       "    <tr>\n",
       "      <th>4</th>\n",
       "      <td>395</td>\n",
       "      <td>114</td>\n",
       "      <td>33</td>\n",
       "      <td>16</td>\n",
       "      <td>9</td>\n",
       "      <td>50</td>\n",
       "      <td>79</td>\n",
       "      <td>0.289</td>\n",
       "      <td>0.489</td>\n",
       "      <td>0.522</td>\n",
       "      <td>1.011</td>\n",
       "      <td>Dan Carlson</td>\n",
       "    </tr>\n",
       "    <tr>\n",
       "      <th>Career Totals</th>\n",
       "      <td>2021</td>\n",
       "      <td>641</td>\n",
       "      <td>189</td>\n",
       "      <td>56</td>\n",
       "      <td>57</td>\n",
       "      <td>264</td>\n",
       "      <td>263</td>\n",
       "      <td>0.317</td>\n",
       "      <td>0.448</td>\n",
       "      <td>0.551</td>\n",
       "      <td>0.999</td>\n",
       "      <td>Dan Carlson</td>\n",
       "    </tr>\n",
       "  </tbody>\n",
       "</table>\n",
       "</div>"
      ],
      "text/plain": [
       "                 AB Hits   2B  3B  HR  RBI   BB    AVG    OBP    SLG    OPS  \\\n",
       "0               398  142   43  10  10   52   58  0.357  0.503  0.590  1.093   \n",
       "1               408  115   41   8  18   64   28  0.282  0.351  0.554  0.905   \n",
       "2               415  148   34   8  10   45   29  0.357  0.427  0.549  0.976   \n",
       "3               405  122   38  14  10   53   69  0.301  0.471  0.538  1.009   \n",
       "4               395  114   33  16   9   50   79  0.289  0.489  0.522  1.011   \n",
       "Career Totals  2021  641  189  56  57  264  263  0.317  0.448  0.551  0.999   \n",
       "\n",
       "                      Name  \n",
       "0              Dan Carlson  \n",
       "1              Dan Carlson  \n",
       "2              Dan Carlson  \n",
       "3              Dan Carlson  \n",
       "4              Dan Carlson  \n",
       "Career Totals  Dan Carlson  "
      ]
     },
     "execution_count": 4,
     "metadata": {},
     "output_type": "execute_result"
    }
   ],
   "source": [
    "batting(CAREER_LENGTH=5)"
   ]
  },
  {
   "cell_type": "markdown",
   "metadata": {},
   "source": [
    "# Pitching Example"
   ]
  },
  {
   "cell_type": "code",
   "execution_count": null,
   "metadata": {},
   "outputs": [],
   "source": []
  },
  {
   "cell_type": "markdown",
   "metadata": {},
   "source": [
    "# Fielding Example"
   ]
  },
  {
   "cell_type": "markdown",
   "metadata": {},
   "source": []
  }
 ],
 "metadata": {
  "kernelspec": {
   "display_name": "jupyterlab-3.3.2",
   "language": "python",
   "name": "python3"
  },
  "language_info": {
   "codemirror_mode": {
    "name": "ipython",
    "version": 3
   },
   "file_extension": ".py",
   "mimetype": "text/x-python",
   "name": "python",
   "nbconvert_exporter": "python",
   "pygments_lexer": "ipython3",
   "version": "3.9.12"
  },
  "orig_nbformat": 4
 },
 "nbformat": 4,
 "nbformat_minor": 2
}
