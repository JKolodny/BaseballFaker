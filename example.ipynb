{
 "cells": [
  {
   "cell_type": "markdown",
   "metadata": {},
   "source": [
    "# Import Library"
   ]
  },
  {
   "cell_type": "code",
   "execution_count": 3,
   "metadata": {},
   "outputs": [],
   "source": [
    "from sportfaker.baseball import batting"
   ]
  },
  {
   "cell_type": "markdown",
   "metadata": {},
   "source": [
    "# Batting Example"
   ]
  },
  {
   "cell_type": "code",
   "execution_count": 4,
   "metadata": {},
   "outputs": [
    {
     "data": {
      "text/html": [
       "<div>\n",
       "<style scoped>\n",
       "    .dataframe tbody tr th:only-of-type {\n",
       "        vertical-align: middle;\n",
       "    }\n",
       "\n",
       "    .dataframe tbody tr th {\n",
       "        vertical-align: top;\n",
       "    }\n",
       "\n",
       "    .dataframe thead th {\n",
       "        text-align: right;\n",
       "    }\n",
       "</style>\n",
       "<table border=\"1\" class=\"dataframe\">\n",
       "  <thead>\n",
       "    <tr style=\"text-align: right;\">\n",
       "      <th></th>\n",
       "      <th>AB</th>\n",
       "      <th>Hits</th>\n",
       "      <th>2B</th>\n",
       "      <th>3B</th>\n",
       "      <th>HR</th>\n",
       "      <th>RBI</th>\n",
       "      <th>AVG</th>\n",
       "      <th>SLG</th>\n",
       "      <th>Name</th>\n",
       "    </tr>\n",
       "  </thead>\n",
       "  <tbody>\n",
       "    <tr>\n",
       "      <th>0</th>\n",
       "      <td>491</td>\n",
       "      <td>167</td>\n",
       "      <td>34</td>\n",
       "      <td>13</td>\n",
       "      <td>3</td>\n",
       "      <td>36</td>\n",
       "      <td>0.340</td>\n",
       "      <td>0.481</td>\n",
       "      <td>Daniel Mora</td>\n",
       "    </tr>\n",
       "    <tr>\n",
       "      <th>1</th>\n",
       "      <td>491</td>\n",
       "      <td>149</td>\n",
       "      <td>47</td>\n",
       "      <td>12</td>\n",
       "      <td>6</td>\n",
       "      <td>48</td>\n",
       "      <td>0.303</td>\n",
       "      <td>0.485</td>\n",
       "      <td>Daniel Mora</td>\n",
       "    </tr>\n",
       "    <tr>\n",
       "      <th>2</th>\n",
       "      <td>475</td>\n",
       "      <td>130</td>\n",
       "      <td>47</td>\n",
       "      <td>14</td>\n",
       "      <td>8</td>\n",
       "      <td>54</td>\n",
       "      <td>0.274</td>\n",
       "      <td>0.482</td>\n",
       "      <td>Daniel Mora</td>\n",
       "    </tr>\n",
       "    <tr>\n",
       "      <th>3</th>\n",
       "      <td>477</td>\n",
       "      <td>160</td>\n",
       "      <td>48</td>\n",
       "      <td>7</td>\n",
       "      <td>14</td>\n",
       "      <td>59</td>\n",
       "      <td>0.335</td>\n",
       "      <td>0.553</td>\n",
       "      <td>Daniel Mora</td>\n",
       "    </tr>\n",
       "    <tr>\n",
       "      <th>4</th>\n",
       "      <td>474</td>\n",
       "      <td>148</td>\n",
       "      <td>37</td>\n",
       "      <td>10</td>\n",
       "      <td>9</td>\n",
       "      <td>46</td>\n",
       "      <td>0.312</td>\n",
       "      <td>0.489</td>\n",
       "      <td>Daniel Mora</td>\n",
       "    </tr>\n",
       "    <tr>\n",
       "      <th>5</th>\n",
       "      <td>461</td>\n",
       "      <td>148</td>\n",
       "      <td>35</td>\n",
       "      <td>11</td>\n",
       "      <td>6</td>\n",
       "      <td>40</td>\n",
       "      <td>0.321</td>\n",
       "      <td>0.484</td>\n",
       "      <td>Daniel Mora</td>\n",
       "    </tr>\n",
       "    <tr>\n",
       "      <th>Career Totals</th>\n",
       "      <td>2869</td>\n",
       "      <td>902</td>\n",
       "      <td>248</td>\n",
       "      <td>67</td>\n",
       "      <td>46</td>\n",
       "      <td>283</td>\n",
       "      <td>0.314</td>\n",
       "      <td>0.496</td>\n",
       "      <td>Daniel Mora</td>\n",
       "    </tr>\n",
       "  </tbody>\n",
       "</table>\n",
       "</div>"
      ],
      "text/plain": [
       "                 AB Hits   2B  3B  HR  RBI    AVG    SLG         Name\n",
       "0               491  167   34  13   3   36  0.340  0.481  Daniel Mora\n",
       "1               491  149   47  12   6   48  0.303  0.485  Daniel Mora\n",
       "2               475  130   47  14   8   54  0.274  0.482  Daniel Mora\n",
       "3               477  160   48   7  14   59  0.335  0.553  Daniel Mora\n",
       "4               474  148   37  10   9   46  0.312  0.489  Daniel Mora\n",
       "5               461  148   35  11   6   40  0.321  0.484  Daniel Mora\n",
       "Career Totals  2869  902  248  67  46  283  0.314  0.496  Daniel Mora"
      ]
     },
     "execution_count": 4,
     "metadata": {},
     "output_type": "execute_result"
    }
   ],
   "source": [
    "batting(CAREER_LENGTH=6)"
   ]
  },
  {
   "cell_type": "markdown",
   "metadata": {},
   "source": [
    "# Pitching Example"
   ]
  },
  {
   "cell_type": "code",
   "execution_count": null,
   "metadata": {},
   "outputs": [],
   "source": []
  },
  {
   "cell_type": "markdown",
   "metadata": {},
   "source": [
    "# Fielding Example"
   ]
  },
  {
   "cell_type": "markdown",
   "metadata": {},
   "source": []
  }
 ],
 "metadata": {
  "kernelspec": {
   "display_name": "jupyterlab-3.3.2",
   "language": "python",
   "name": "python3"
  },
  "language_info": {
   "codemirror_mode": {
    "name": "ipython",
    "version": 3
   },
   "file_extension": ".py",
   "mimetype": "text/x-python",
   "name": "python",
   "nbconvert_exporter": "python",
   "pygments_lexer": "ipython3",
   "version": "3.9.12"
  },
  "orig_nbformat": 4
 },
 "nbformat": 4,
 "nbformat_minor": 2
}
