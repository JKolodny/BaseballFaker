{
 "cells": [
  {
   "cell_type": "code",
   "execution_count": 1,
   "metadata": {},
   "outputs": [
    {
     "name": "stdout",
     "output_type": "stream",
     "text": [
      "empty\n"
     ]
    }
   ],
   "source": [
    "from sportfaker.baseball import batting"
   ]
  },
  {
   "cell_type": "code",
   "execution_count": 2,
   "metadata": {},
   "outputs": [
    {
     "data": {
      "text/html": [
       "<div>\n",
       "<style scoped>\n",
       "    .dataframe tbody tr th:only-of-type {\n",
       "        vertical-align: middle;\n",
       "    }\n",
       "\n",
       "    .dataframe tbody tr th {\n",
       "        vertical-align: top;\n",
       "    }\n",
       "\n",
       "    .dataframe thead th {\n",
       "        text-align: right;\n",
       "    }\n",
       "</style>\n",
       "<table border=\"1\" class=\"dataframe\">\n",
       "  <thead>\n",
       "    <tr style=\"text-align: right;\">\n",
       "      <th></th>\n",
       "      <th>AB</th>\n",
       "      <th>Hits</th>\n",
       "      <th>2B</th>\n",
       "      <th>3B</th>\n",
       "      <th>HR</th>\n",
       "      <th>RBI</th>\n",
       "      <th>AVG</th>\n",
       "      <th>SLG</th>\n",
       "      <th>Name</th>\n",
       "    </tr>\n",
       "  </thead>\n",
       "  <tbody>\n",
       "    <tr>\n",
       "      <th>0</th>\n",
       "      <td>471</td>\n",
       "      <td>148</td>\n",
       "      <td>29</td>\n",
       "      <td>10</td>\n",
       "      <td>5</td>\n",
       "      <td>34</td>\n",
       "      <td>0.314</td>\n",
       "      <td>0.450</td>\n",
       "      <td>Brian Owens</td>\n",
       "    </tr>\n",
       "    <tr>\n",
       "      <th>1</th>\n",
       "      <td>486</td>\n",
       "      <td>175</td>\n",
       "      <td>25</td>\n",
       "      <td>10</td>\n",
       "      <td>8</td>\n",
       "      <td>38</td>\n",
       "      <td>0.360</td>\n",
       "      <td>0.502</td>\n",
       "      <td>Brian Owens</td>\n",
       "    </tr>\n",
       "    <tr>\n",
       "      <th>2</th>\n",
       "      <td>476</td>\n",
       "      <td>163</td>\n",
       "      <td>39</td>\n",
       "      <td>12</td>\n",
       "      <td>12</td>\n",
       "      <td>56</td>\n",
       "      <td>0.342</td>\n",
       "      <td>0.550</td>\n",
       "      <td>Brian Owens</td>\n",
       "    </tr>\n",
       "    <tr>\n",
       "      <th>3</th>\n",
       "      <td>513</td>\n",
       "      <td>148</td>\n",
       "      <td>41</td>\n",
       "      <td>10</td>\n",
       "      <td>13</td>\n",
       "      <td>56</td>\n",
       "      <td>0.288</td>\n",
       "      <td>0.483</td>\n",
       "      <td>Brian Owens</td>\n",
       "    </tr>\n",
       "    <tr>\n",
       "      <th>4</th>\n",
       "      <td>485</td>\n",
       "      <td>158</td>\n",
       "      <td>34</td>\n",
       "      <td>9</td>\n",
       "      <td>10</td>\n",
       "      <td>46</td>\n",
       "      <td>0.326</td>\n",
       "      <td>0.495</td>\n",
       "      <td>Brian Owens</td>\n",
       "    </tr>\n",
       "    <tr>\n",
       "      <th>5</th>\n",
       "      <td>486</td>\n",
       "      <td>155</td>\n",
       "      <td>56</td>\n",
       "      <td>14</td>\n",
       "      <td>9</td>\n",
       "      <td>60</td>\n",
       "      <td>0.319</td>\n",
       "      <td>0.547</td>\n",
       "      <td>Brian Owens</td>\n",
       "    </tr>\n",
       "    <tr>\n",
       "      <th>Career Totals</th>\n",
       "      <td>2917</td>\n",
       "      <td>947</td>\n",
       "      <td>224</td>\n",
       "      <td>65</td>\n",
       "      <td>57</td>\n",
       "      <td>290</td>\n",
       "      <td>0.325</td>\n",
       "      <td>0.505</td>\n",
       "      <td>Brian Owens</td>\n",
       "    </tr>\n",
       "  </tbody>\n",
       "</table>\n",
       "</div>"
      ],
      "text/plain": [
       "                 AB Hits   2B  3B  HR  RBI    AVG    SLG         Name\n",
       "0               471  148   29  10   5   34  0.314  0.450  Brian Owens\n",
       "1               486  175   25  10   8   38  0.360  0.502  Brian Owens\n",
       "2               476  163   39  12  12   56  0.342  0.550  Brian Owens\n",
       "3               513  148   41  10  13   56  0.288  0.483  Brian Owens\n",
       "4               485  158   34   9  10   46  0.326  0.495  Brian Owens\n",
       "5               486  155   56  14   9   60  0.319  0.547  Brian Owens\n",
       "Career Totals  2917  947  224  65  57  290  0.325  0.505  Brian Owens"
      ]
     },
     "execution_count": 2,
     "metadata": {},
     "output_type": "execute_result"
    }
   ],
   "source": [
    "batting(CAREER_LENGTH=6)"
   ]
  },
  {
   "cell_type": "code",
   "execution_count": null,
   "metadata": {},
   "outputs": [],
   "source": []
  }
 ],
 "metadata": {
  "kernelspec": {
   "display_name": "jupyterlab-3.3.2",
   "language": "python",
   "name": "python3"
  },
  "language_info": {
   "codemirror_mode": {
    "name": "ipython",
    "version": 3
   },
   "file_extension": ".py",
   "mimetype": "text/x-python",
   "name": "python",
   "nbconvert_exporter": "python",
   "pygments_lexer": "ipython3",
   "version": "3.9.12"
  },
  "orig_nbformat": 4
 },
 "nbformat": 4,
 "nbformat_minor": 2
}
